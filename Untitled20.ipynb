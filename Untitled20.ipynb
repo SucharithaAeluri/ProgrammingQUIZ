{
  "nbformat": 4,
  "nbformat_minor": 0,
  "metadata": {
    "colab": {
      "provenance": []
    },
    "kernelspec": {
      "name": "python3",
      "display_name": "Python 3"
    },
    "language_info": {
      "name": "python"
    },
    "accelerator": "TPU"
  },
  "cells": [
    {
      "cell_type": "code",
      "execution_count": 20,
      "metadata": {
        "id": "4xFtoNLAytG8"
      },
      "outputs": [],
      "source": [
        "import numpy as np\n",
        "import matplotlib.pyplot as plt\n",
        "import pandas as pd\n",
        "#import dataset from data.csv file\n",
        "dataset = pd.read_csv('/content/training.csv',delimiter='\\t')\n",
        "dataset = dataset.dropna(subset=[\"Temperature\"])\n",
        "dataset=dataset.reset_index(drop=True)\n",
        "training_set = dataset.iloc[:,1:2].values.reshape(-1,1)\n",
        "\n",
        "#Feature Scaling\n",
        "from sklearn.preprocessing import MinMaxScaler\n",
        "sc = MinMaxScaler(feature_range=(0,1))\n",
        "training_set_scaled = sc.fit_transform(training_set)\n",
        "\n",
        "\n",
        "x_train = []\n",
        "y_train = []\n",
        "n_future = 4 # next 4 days temperature forecast\n",
        "n_past = 30 # Past 30 days\n",
        "for i in range(0,len(training_set_scaled)-n_past-n_future+1):\n",
        "    x_train.append(training_set_scaled[i : i + n_past , 0])\n",
        "    y_train.append(training_set_scaled[i + n_past : i + n_past + n_future , 0 ])\n",
        "x_train , y_train = np.array(x_train), np.array(y_train)\n",
        "x_train = np.reshape(x_train, (x_train.shape[0] , x_train.shape[1], 1) )"
      ]
    },
    {
      "cell_type": "code",
      "source": [],
      "metadata": {
        "id": "YkWxtqM50iwD"
      },
      "execution_count": null,
      "outputs": []
    },
    {
      "cell_type": "code",
      "source": [
        "from keras.models import Sequential\n",
        "from keras.layers import LSTM,Dense ,Dropout,Bidirectional\n",
        "# Fitting RNN to training set using Keras Callbacks. Read Keras callbacks docs for more info."
      ],
      "metadata": {
        "id": "K4L_KFjUzlZs"
      },
      "execution_count": 23,
      "outputs": []
    },
    {
      "cell_type": "code",
      "source": [
        "regressor = Sequential()\n",
        "regressor.add(Bidirectional(LSTM(units=30, return_sequences=True, input_shape = (x_train.shape[1],1) ) ))\n",
        "regressor.add(Dropout(0.2))\n",
        "regressor.add(LSTM(units= 30 , return_sequences=True))\n",
        "regressor.add(Dropout(0.2))\n",
        "regressor.add(LSTM(units= 30 , return_sequences=True))\n",
        "regressor.add(Dropout(0.2))\n",
        "regressor.add(LSTM(units= 30))\n",
        "regressor.add(Dropout(0.2))\n",
        "regressor.add(Dense(units = n_future,activation='linear'))\n",
        "regressor.compile(optimizer='adam', loss='mean_squared_error',metrics=['acc'])\n",
        "regressor.fit(x_train, y_train, epochs=50,batch_size=32 )"
      ],
      "metadata": {
        "colab": {
          "base_uri": "https://localhost:8080/"
        },
        "id": "wKdNxWvPzRZp",
        "outputId": "fc0b96b4-5a35-4748-b16d-83ee63716cd8"
      },
      "execution_count": 25,
      "outputs": [
        {
          "output_type": "stream",
          "name": "stdout",
          "text": [
            "Epoch 1/50\n",
            "95/95 [==============================] - 22s 76ms/step - loss: 0.0284 - acc: 0.2571\n",
            "Epoch 2/50\n",
            "95/95 [==============================] - 8s 80ms/step - loss: 0.0144 - acc: 0.2508\n",
            "Epoch 3/50\n",
            "95/95 [==============================] - 9s 91ms/step - loss: 0.0130 - acc: 0.2604\n",
            "Epoch 4/50\n",
            "95/95 [==============================] - 9s 95ms/step - loss: 0.0114 - acc: 0.2429\n",
            "Epoch 5/50\n",
            "95/95 [==============================] - 9s 96ms/step - loss: 0.0109 - acc: 0.2281\n",
            "Epoch 6/50\n",
            "95/95 [==============================] - 7s 72ms/step - loss: 0.0102 - acc: 0.2670\n",
            "Epoch 7/50\n",
            "95/95 [==============================] - 8s 81ms/step - loss: 0.0098 - acc: 0.2409\n",
            "Epoch 8/50\n",
            "95/95 [==============================] - 8s 84ms/step - loss: 0.0091 - acc: 0.2696\n",
            "Epoch 9/50\n",
            "95/95 [==============================] - 7s 70ms/step - loss: 0.0087 - acc: 0.2693\n",
            "Epoch 10/50\n",
            "95/95 [==============================] - 8s 80ms/step - loss: 0.0084 - acc: 0.2617\n",
            "Epoch 11/50\n",
            "95/95 [==============================] - 7s 69ms/step - loss: 0.0084 - acc: 0.2413\n",
            "Epoch 12/50\n",
            "95/95 [==============================] - 8s 80ms/step - loss: 0.0082 - acc: 0.2630\n",
            "Epoch 13/50\n",
            "95/95 [==============================] - 7s 78ms/step - loss: 0.0079 - acc: 0.2637\n",
            "Epoch 14/50\n",
            "95/95 [==============================] - 7s 78ms/step - loss: 0.0080 - acc: 0.2594\n",
            "Epoch 15/50\n",
            "95/95 [==============================] - 8s 83ms/step - loss: 0.0078 - acc: 0.2528\n",
            "Epoch 16/50\n",
            "95/95 [==============================] - 7s 70ms/step - loss: 0.0077 - acc: 0.2577\n",
            "Epoch 17/50\n",
            "95/95 [==============================] - 11s 111ms/step - loss: 0.0076 - acc: 0.2482\n",
            "Epoch 18/50\n",
            "95/95 [==============================] - 7s 76ms/step - loss: 0.0074 - acc: 0.2459\n",
            "Epoch 19/50\n",
            "95/95 [==============================] - 7s 76ms/step - loss: 0.0072 - acc: 0.2551\n",
            "Epoch 20/50\n",
            "95/95 [==============================] - 8s 80ms/step - loss: 0.0076 - acc: 0.2633\n",
            "Epoch 21/50\n",
            "95/95 [==============================] - 7s 70ms/step - loss: 0.0071 - acc: 0.2709\n",
            "Epoch 22/50\n",
            "95/95 [==============================] - 8s 81ms/step - loss: 0.0073 - acc: 0.2775\n",
            "Epoch 23/50\n",
            "95/95 [==============================] - 7s 71ms/step - loss: 0.0071 - acc: 0.2762\n",
            "Epoch 24/50\n",
            "95/95 [==============================] - 8s 81ms/step - loss: 0.0070 - acc: 0.2814\n",
            "Epoch 25/50\n",
            "95/95 [==============================] - 7s 72ms/step - loss: 0.0071 - acc: 0.2916\n",
            "Epoch 26/50\n",
            "95/95 [==============================] - 7s 76ms/step - loss: 0.0070 - acc: 0.2617\n",
            "Epoch 27/50\n",
            "95/95 [==============================] - 8s 79ms/step - loss: 0.0070 - acc: 0.2775\n",
            "Epoch 28/50\n",
            "95/95 [==============================] - 6s 68ms/step - loss: 0.0069 - acc: 0.2814\n",
            "Epoch 29/50\n",
            "95/95 [==============================] - 7s 79ms/step - loss: 0.0070 - acc: 0.2828\n",
            "Epoch 30/50\n",
            "95/95 [==============================] - 6s 68ms/step - loss: 0.0069 - acc: 0.2778\n",
            "Epoch 31/50\n",
            "95/95 [==============================] - 8s 80ms/step - loss: 0.0068 - acc: 0.2854\n",
            "Epoch 32/50\n",
            "95/95 [==============================] - 6s 68ms/step - loss: 0.0067 - acc: 0.2808\n",
            "Epoch 33/50\n",
            "95/95 [==============================] - 8s 81ms/step - loss: 0.0067 - acc: 0.2768\n",
            "Epoch 34/50\n",
            "95/95 [==============================] - 8s 80ms/step - loss: 0.0067 - acc: 0.2874\n",
            "Epoch 35/50\n",
            "95/95 [==============================] - 7s 70ms/step - loss: 0.0067 - acc: 0.2982\n",
            "Epoch 36/50\n",
            "95/95 [==============================] - 8s 81ms/step - loss: 0.0069 - acc: 0.2834\n",
            "Epoch 37/50\n",
            "95/95 [==============================] - 7s 71ms/step - loss: 0.0067 - acc: 0.2814\n",
            "Epoch 38/50\n",
            "95/95 [==============================] - 8s 80ms/step - loss: 0.0067 - acc: 0.2913\n",
            "Epoch 39/50\n",
            "95/95 [==============================] - 7s 70ms/step - loss: 0.0066 - acc: 0.2916\n",
            "Epoch 40/50\n",
            "95/95 [==============================] - 8s 79ms/step - loss: 0.0066 - acc: 0.2969\n",
            "Epoch 41/50\n",
            "95/95 [==============================] - 8s 82ms/step - loss: 0.0066 - acc: 0.2791\n",
            "Epoch 42/50\n",
            "95/95 [==============================] - 7s 70ms/step - loss: 0.0067 - acc: 0.2913\n",
            "Epoch 43/50\n",
            "95/95 [==============================] - 8s 80ms/step - loss: 0.0066 - acc: 0.2979\n",
            "Epoch 44/50\n",
            "95/95 [==============================] - 6s 68ms/step - loss: 0.0067 - acc: 0.2959\n",
            "Epoch 45/50\n",
            "95/95 [==============================] - 8s 79ms/step - loss: 0.0065 - acc: 0.3058\n",
            "Epoch 46/50\n",
            "95/95 [==============================] - 6s 68ms/step - loss: 0.0065 - acc: 0.2907\n",
            "Epoch 47/50\n",
            "95/95 [==============================] - 9s 100ms/step - loss: 0.0066 - acc: 0.3163\n",
            "Epoch 48/50\n",
            "95/95 [==============================] - 8s 80ms/step - loss: 0.0065 - acc: 0.3097\n",
            "Epoch 49/50\n",
            "95/95 [==============================] - 8s 83ms/step - loss: 0.0065 - acc: 0.3022\n",
            "Epoch 50/50\n",
            "95/95 [==============================] - 7s 79ms/step - loss: 0.0066 - acc: 0.2897\n"
          ]
        },
        {
          "output_type": "execute_result",
          "data": {
            "text/plain": [
              "<keras.callbacks.History at 0x7db50c73d1b0>"
            ]
          },
          "metadata": {},
          "execution_count": 25
        }
      ]
    },
    {
      "cell_type": "code",
      "source": [
        "# read test dataset\n",
        "testdataset = pd.read_csv('/content/testing.csv')\n",
        "#get only the temperature column\n",
        "testdataset = testdataset.iloc[:30,1:2].values\n",
        "real_temperature = pd.read_csv('/content/_testing.csv')\n",
        "real_temperature = real_temperature.iloc[30:,1:2].values\n",
        "testing = sc.transform(testdataset)\n",
        "testing = np.array(testing)\n",
        "testing = np.reshape(testing,(testing.shape[1],testing.shape[0],1))"
      ],
      "metadata": {
        "id": "oa5Uo7IzzvSK"
      },
      "execution_count": 26,
      "outputs": []
    },
    {
      "cell_type": "code",
      "source": [
        "predicted_temperature = regressor.predict(testing)\n",
        "predicted_temperature = sc.inverse_transform(predicted_temperature)\n",
        "predicted_temperature = np.reshape(predicted_temperature,(predicted_temperature.shape[1],predicted_temperature.shape[0]))"
      ],
      "metadata": {
        "colab": {
          "base_uri": "https://localhost:8080/"
        },
        "id": "b8Q3YK900VLY",
        "outputId": "a1b8a536-f8c9-454a-fa21-2cb7fcfb4ea9"
      },
      "execution_count": 27,
      "outputs": [
        {
          "output_type": "stream",
          "name": "stdout",
          "text": [
            "1/1 [==============================] - 3s 3s/step\n"
          ]
        }
      ]
    },
    {
      "cell_type": "code",
      "source": [
        "real_temperature\n"
      ],
      "metadata": {
        "colab": {
          "base_uri": "https://localhost:8080/"
        },
        "id": "HLwRizuR3xpl",
        "outputId": "711c598b-c327-440b-e9d0-2d15fd3aed9b"
      },
      "execution_count": 29,
      "outputs": [
        {
          "output_type": "execute_result",
          "data": {
            "text/plain": [
              "array([[81. ],\n",
              "       [82. ],\n",
              "       [80.5],\n",
              "       [79. ],\n",
              "       [78. ]])"
            ]
          },
          "metadata": {},
          "execution_count": 29
        }
      ]
    },
    {
      "cell_type": "code",
      "source": [
        "predicted_temperature"
      ],
      "metadata": {
        "colab": {
          "base_uri": "https://localhost:8080/"
        },
        "id": "8yt3pVtq3sMG",
        "outputId": "3bc34ad1-7db8-46cf-b2ee-e9ea08322f97"
      },
      "execution_count": 30,
      "outputs": [
        {
          "output_type": "execute_result",
          "data": {
            "text/plain": [
              "array([[79.28368],\n",
              "       [78.75407],\n",
              "       [78.41582],\n",
              "       [78.21471]], dtype=float32)"
            ]
          },
          "metadata": {},
          "execution_count": 30
        }
      ]
    },
    {
      "cell_type": "code",
      "source": [],
      "metadata": {
        "id": "592fNSp230Um"
      },
      "execution_count": null,
      "outputs": []
    }
  ]
}